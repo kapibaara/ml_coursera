{
 "cells": [
  {
   "cell_type": "code",
   "execution_count": null,
   "outputs": [],
   "source": [],
   "metadata": {
    "collapsed": false,
    "pycharm": {
     "name": "#%%\n"
    }
   }
  },
  {
   "cell_type": "code",
   "execution_count": 1,
   "outputs": [
    {
     "name": "stderr",
     "output_type": "stream",
     "text": [
      "[nltk_data] Downloading package punkt to\n",
      "[nltk_data]     /Users/a.boldovskaya/nltk_data...\n",
      "[nltk_data]   Unzipping tokenizers/punkt.zip.\n"
     ]
    },
    {
     "data": {
      "text/plain": "True"
     },
     "execution_count": 1,
     "metadata": {},
     "output_type": "execute_result"
    }
   ],
   "source": [
    "import numpy as np\n",
    "import pandas as pd\n",
    "import seaborn as sns\n",
    "from matplotlib import pyplot as plt\n",
    "import nltk\n",
    "\n",
    "nltk.download('punkt')"
   ],
   "metadata": {
    "collapsed": false,
    "pycharm": {
     "name": "#%%\n"
    }
   }
  },
  {
   "cell_type": "code",
   "execution_count": 5,
   "outputs": [],
   "source": [
    "data = pd.read_csv('./data_seta/kontur_train.csv')"
   ],
   "metadata": {
    "collapsed": false,
    "pycharm": {
     "name": "#%%\n"
    }
   }
  },
  {
   "cell_type": "code",
   "execution_count": 6,
   "outputs": [
    {
     "data": {
      "text/plain": "   id                                               name             tare\n0   0                       Котлеты МЛМ из говядины 335г          коробка\n1   1  Победа Вкуса конфеты Мишки в лесу 250г(КФ ПОБЕ...          коробка\n2   2  ТВОРОГ (ЮНИМИЛК) \"ПРОСТОКВАШИНО\" ЗЕРНЕНЫЙ 130Г...        стаканчик\n3   3  Сыр Плавленый Веселый Молочник с Грибами 190г ...        контейнер\n4   4    Жевательный мармелад Маша и медведь  буквы 100г  пакет без формы",
      "text/html": "<div>\n<style scoped>\n    .dataframe tbody tr th:only-of-type {\n        vertical-align: middle;\n    }\n\n    .dataframe tbody tr th {\n        vertical-align: top;\n    }\n\n    .dataframe thead th {\n        text-align: right;\n    }\n</style>\n<table border=\"1\" class=\"dataframe\">\n  <thead>\n    <tr style=\"text-align: right;\">\n      <th></th>\n      <th>id</th>\n      <th>name</th>\n      <th>tare</th>\n    </tr>\n  </thead>\n  <tbody>\n    <tr>\n      <th>0</th>\n      <td>0</td>\n      <td>Котлеты МЛМ из говядины 335г</td>\n      <td>коробка</td>\n    </tr>\n    <tr>\n      <th>1</th>\n      <td>1</td>\n      <td>Победа Вкуса конфеты Мишки в лесу 250г(КФ ПОБЕ...</td>\n      <td>коробка</td>\n    </tr>\n    <tr>\n      <th>2</th>\n      <td>2</td>\n      <td>ТВОРОГ (ЮНИМИЛК) \"ПРОСТОКВАШИНО\" ЗЕРНЕНЫЙ 130Г...</td>\n      <td>стаканчик</td>\n    </tr>\n    <tr>\n      <th>3</th>\n      <td>3</td>\n      <td>Сыр Плавленый Веселый Молочник с Грибами 190г ...</td>\n      <td>контейнер</td>\n    </tr>\n    <tr>\n      <th>4</th>\n      <td>4</td>\n      <td>Жевательный мармелад Маша и медведь  буквы 100г</td>\n      <td>пакет без формы</td>\n    </tr>\n  </tbody>\n</table>\n</div>"
     },
     "execution_count": 6,
     "metadata": {},
     "output_type": "execute_result"
    }
   ],
   "source": [
    "data.head()"
   ],
   "metadata": {
    "collapsed": false,
    "pycharm": {
     "name": "#%%\n"
    }
   }
  },
  {
   "cell_type": "code",
   "execution_count": 7,
   "outputs": [],
   "source": [
    "tares = data.tare.unique()\n",
    "key_value = list(map(lambda t: (t[1], t[0]), enumerate(tares)))\n",
    "tares_to_integer = dict(key_value)\n",
    "integers = list(map(lambda t: tares_to_integer[t], data.tare))\n",
    "data['tare_value'] = integers"
   ],
   "metadata": {
    "collapsed": false,
    "pycharm": {
     "name": "#%%\n"
    }
   }
  },
  {
   "cell_type": "code",
   "execution_count": 8,
   "outputs": [
    {
     "data": {
      "text/plain": "   id                                               name             tare  \\\n0   0                       котлеты млм из говядины 335г          коробка   \n1   1  победа вкуса конфеты мишки в лесу 250г(кф побе...          коробка   \n2   2  творог (юнимилк) \"простоквашино\" зерненый 130г...        стаканчик   \n3   3  сыр плавленый веселый молочник с грибами 190г ...        контейнер   \n4   4    жевательный мармелад маша и медведь  буквы 100г  пакет без формы   \n\n   tare_value                                             tokens  \n0           0                 [котлеты, млм, из, говядины, 335г]  \n1           0  [победа, вкуса, конфеты, мишки, в, лесу, 250г,...  \n2           1  [творог, юнимилк, простоквашино, зерненый, 130...  \n3           2  [сыр, плавленый, веселый, молочник, с, грибами...  \n4           3  [жевательный, мармелад, маша, и, медведь, букв...  ",
      "text/html": "<div>\n<style scoped>\n    .dataframe tbody tr th:only-of-type {\n        vertical-align: middle;\n    }\n\n    .dataframe tbody tr th {\n        vertical-align: top;\n    }\n\n    .dataframe thead th {\n        text-align: right;\n    }\n</style>\n<table border=\"1\" class=\"dataframe\">\n  <thead>\n    <tr style=\"text-align: right;\">\n      <th></th>\n      <th>id</th>\n      <th>name</th>\n      <th>tare</th>\n      <th>tare_value</th>\n      <th>tokens</th>\n    </tr>\n  </thead>\n  <tbody>\n    <tr>\n      <th>0</th>\n      <td>0</td>\n      <td>котлеты млм из говядины 335г</td>\n      <td>коробка</td>\n      <td>0</td>\n      <td>[котлеты, млм, из, говядины, 335г]</td>\n    </tr>\n    <tr>\n      <th>1</th>\n      <td>1</td>\n      <td>победа вкуса конфеты мишки в лесу 250г(кф побе...</td>\n      <td>коробка</td>\n      <td>0</td>\n      <td>[победа, вкуса, конфеты, мишки, в, лесу, 250г,...</td>\n    </tr>\n    <tr>\n      <th>2</th>\n      <td>2</td>\n      <td>творог (юнимилк) \"простоквашино\" зерненый 130г...</td>\n      <td>стаканчик</td>\n      <td>1</td>\n      <td>[творог, юнимилк, простоквашино, зерненый, 130...</td>\n    </tr>\n    <tr>\n      <th>3</th>\n      <td>3</td>\n      <td>сыр плавленый веселый молочник с грибами 190г ...</td>\n      <td>контейнер</td>\n      <td>2</td>\n      <td>[сыр, плавленый, веселый, молочник, с, грибами...</td>\n    </tr>\n    <tr>\n      <th>4</th>\n      <td>4</td>\n      <td>жевательный мармелад маша и медведь  буквы 100г</td>\n      <td>пакет без формы</td>\n      <td>3</td>\n      <td>[жевательный, мармелад, маша, и, медведь, букв...</td>\n    </tr>\n  </tbody>\n</table>\n</div>"
     },
     "execution_count": 8,
     "metadata": {},
     "output_type": "execute_result"
    }
   ],
   "source": [
    "data.name = data.name.apply(lambda n: n.lower())\n",
    "\n",
    "tokenizer = nltk.RegexpTokenizer(r'\\w+')\n",
    "data['tokens'] = data.name.apply(lambda n: tokenizer.tokenize(n))\n",
    "data.head()"
   ],
   "metadata": {
    "collapsed": false,
    "pycharm": {
     "name": "#%%\n"
    }
   }
  },
  {
   "cell_type": "code",
   "execution_count": 9,
   "outputs": [],
   "source": [
    "def isNotJunkWord(word):\n",
    "    if any(char.isdigit() for char in word):\n",
    "        return False\n",
    "    if len(word) < 2:\n",
    "        return False\n",
    "    return True\n",
    "\n",
    "def where(arr, condition):\n",
    "    new = []\n",
    "    for element in arr:\n",
    "        if condition(element) == True:\n",
    "            new.append(element)\n",
    "    return new"
   ],
   "metadata": {
    "collapsed": false,
    "pycharm": {
     "name": "#%%\n"
    }
   }
  },
  {
   "cell_type": "code",
   "execution_count": 10,
   "outputs": [],
   "source": [
    "def get_words_by_frequency(data):\n",
    "    words = np.array([item for sublist in data.tokens for item in sublist])\n",
    "    words = where(words, isNotJunkWord)\n",
    "\n",
    "    unique_words, counts = np.unique(words, return_counts=True)\n",
    "\n",
    "    return list(sorted(zip(unique_words, counts), key=lambda pair: pair[1], reverse=True))"
   ],
   "metadata": {
    "collapsed": false,
    "pycharm": {
     "name": "#%%\n"
    }
   }
  },
  {
   "cell_type": "code",
   "execution_count": 11,
   "outputs": [],
   "source": [
    "def calc_coef(tokens, w):\n",
    "    coef = 0\n",
    "    for pair in w:\n",
    "        if pair[0] in tokens:\n",
    "            coef += int(pair[1]) / len(w)\n",
    "    return coef\n",
    "\n",
    "def calc_coefs(data, tare_value):\n",
    "    words_by_frequency = get_words_by_frequency(data[data['tare_value'] == tare_value])\n",
    "    print(words_by_frequency)\n",
    "    threshold = len(words_by_frequency) / 200\n",
    "    words_by_frequency = list(filter(lambda pair: pair[1] > threshold, words_by_frequency))\n",
    "    return data.tokens.apply(lambda tok: calc_coef(tok, words_by_frequency))"
   ],
   "metadata": {
    "collapsed": false,
    "pycharm": {
     "name": "#%%\n"
    }
   }
  },
  {
   "cell_type": "code",
   "execution_count": 20,
   "outputs": [
    {
     "ename": "AttributeError",
     "evalue": "'DataFrame' object has no attribute 'tokens'",
     "output_type": "error",
     "traceback": [
      "\u001B[0;31m---------------------------------------------------------------------------\u001B[0m",
      "\u001B[0;31mAttributeError\u001B[0m                            Traceback (most recent call last)",
      "\u001B[0;32m<timed exec>\u001B[0m in \u001B[0;36m<module>\u001B[0;34m\u001B[0m\n",
      "\u001B[0;32m<ipython-input-11-a3d941ed55cd>\u001B[0m in \u001B[0;36mcalc_coefs\u001B[0;34m(data, tare_value)\u001B[0m\n\u001B[1;32m      7\u001B[0m \u001B[0;34m\u001B[0m\u001B[0m\n\u001B[1;32m      8\u001B[0m \u001B[0;32mdef\u001B[0m \u001B[0mcalc_coefs\u001B[0m\u001B[0;34m(\u001B[0m\u001B[0mdata\u001B[0m\u001B[0;34m,\u001B[0m \u001B[0mtare_value\u001B[0m\u001B[0;34m)\u001B[0m\u001B[0;34m:\u001B[0m\u001B[0;34m\u001B[0m\u001B[0;34m\u001B[0m\u001B[0m\n\u001B[0;32m----> 9\u001B[0;31m     \u001B[0mwords_by_frequency\u001B[0m \u001B[0;34m=\u001B[0m \u001B[0mget_words_by_frequency\u001B[0m\u001B[0;34m(\u001B[0m\u001B[0mdata\u001B[0m\u001B[0;34m[\u001B[0m\u001B[0mdata\u001B[0m\u001B[0;34m[\u001B[0m\u001B[0;34m'tare_value'\u001B[0m\u001B[0;34m]\u001B[0m \u001B[0;34m==\u001B[0m \u001B[0mtare_value\u001B[0m\u001B[0;34m]\u001B[0m\u001B[0;34m)\u001B[0m\u001B[0;34m\u001B[0m\u001B[0;34m\u001B[0m\u001B[0m\n\u001B[0m\u001B[1;32m     10\u001B[0m     \u001B[0mthreshold\u001B[0m \u001B[0;34m=\u001B[0m \u001B[0mlen\u001B[0m\u001B[0;34m(\u001B[0m\u001B[0mwords_by_frequency\u001B[0m\u001B[0;34m)\u001B[0m \u001B[0;34m/\u001B[0m \u001B[0;36m200\u001B[0m\u001B[0;34m\u001B[0m\u001B[0;34m\u001B[0m\u001B[0m\n\u001B[1;32m     11\u001B[0m     \u001B[0mwords_by_frequency\u001B[0m \u001B[0;34m=\u001B[0m \u001B[0mlist\u001B[0m\u001B[0;34m(\u001B[0m\u001B[0mfilter\u001B[0m\u001B[0;34m(\u001B[0m\u001B[0;32mlambda\u001B[0m \u001B[0mpair\u001B[0m\u001B[0;34m:\u001B[0m \u001B[0mpair\u001B[0m\u001B[0;34m[\u001B[0m\u001B[0;36m1\u001B[0m\u001B[0;34m]\u001B[0m \u001B[0;34m>\u001B[0m \u001B[0mthreshold\u001B[0m\u001B[0;34m,\u001B[0m \u001B[0mwords_by_frequency\u001B[0m\u001B[0;34m)\u001B[0m\u001B[0;34m)\u001B[0m\u001B[0;34m\u001B[0m\u001B[0;34m\u001B[0m\u001B[0m\n",
      "\u001B[0;32m<ipython-input-10-a0a530e286eb>\u001B[0m in \u001B[0;36mget_words_by_frequency\u001B[0;34m(data)\u001B[0m\n\u001B[1;32m      1\u001B[0m \u001B[0;32mdef\u001B[0m \u001B[0mget_words_by_frequency\u001B[0m\u001B[0;34m(\u001B[0m\u001B[0mdata\u001B[0m\u001B[0;34m)\u001B[0m\u001B[0;34m:\u001B[0m\u001B[0;34m\u001B[0m\u001B[0;34m\u001B[0m\u001B[0m\n\u001B[0;32m----> 2\u001B[0;31m     \u001B[0mwords\u001B[0m \u001B[0;34m=\u001B[0m \u001B[0mnp\u001B[0m\u001B[0;34m.\u001B[0m\u001B[0marray\u001B[0m\u001B[0;34m(\u001B[0m\u001B[0;34m[\u001B[0m\u001B[0mitem\u001B[0m \u001B[0;32mfor\u001B[0m \u001B[0msublist\u001B[0m \u001B[0;32min\u001B[0m \u001B[0mdata\u001B[0m\u001B[0;34m.\u001B[0m\u001B[0mtokens\u001B[0m \u001B[0;32mfor\u001B[0m \u001B[0mitem\u001B[0m \u001B[0;32min\u001B[0m \u001B[0msublist\u001B[0m\u001B[0;34m]\u001B[0m\u001B[0;34m)\u001B[0m\u001B[0;34m\u001B[0m\u001B[0;34m\u001B[0m\u001B[0m\n\u001B[0m\u001B[1;32m      3\u001B[0m     \u001B[0mwords\u001B[0m \u001B[0;34m=\u001B[0m \u001B[0mwhere\u001B[0m\u001B[0;34m(\u001B[0m\u001B[0mwords\u001B[0m\u001B[0;34m,\u001B[0m \u001B[0misNotJunkWord\u001B[0m\u001B[0;34m)\u001B[0m\u001B[0;34m\u001B[0m\u001B[0;34m\u001B[0m\u001B[0m\n\u001B[1;32m      4\u001B[0m \u001B[0;34m\u001B[0m\u001B[0m\n\u001B[1;32m      5\u001B[0m     \u001B[0munique_words\u001B[0m\u001B[0;34m,\u001B[0m \u001B[0mcounts\u001B[0m \u001B[0;34m=\u001B[0m \u001B[0mnp\u001B[0m\u001B[0;34m.\u001B[0m\u001B[0munique\u001B[0m\u001B[0;34m(\u001B[0m\u001B[0mwords\u001B[0m\u001B[0;34m,\u001B[0m \u001B[0mreturn_counts\u001B[0m\u001B[0;34m=\u001B[0m\u001B[0;32mTrue\u001B[0m\u001B[0;34m)\u001B[0m\u001B[0;34m\u001B[0m\u001B[0;34m\u001B[0m\u001B[0m\n",
      "\u001B[0;32m~/PycharmProjects/coursera/venv/lib/python3.7/site-packages/pandas/core/generic.py\u001B[0m in \u001B[0;36m__getattr__\u001B[0;34m(self, name)\u001B[0m\n\u001B[1;32m   5272\u001B[0m             \u001B[0;32mif\u001B[0m \u001B[0mself\u001B[0m\u001B[0;34m.\u001B[0m\u001B[0m_info_axis\u001B[0m\u001B[0;34m.\u001B[0m\u001B[0m_can_hold_identifiers_and_holds_name\u001B[0m\u001B[0;34m(\u001B[0m\u001B[0mname\u001B[0m\u001B[0;34m)\u001B[0m\u001B[0;34m:\u001B[0m\u001B[0;34m\u001B[0m\u001B[0;34m\u001B[0m\u001B[0m\n\u001B[1;32m   5273\u001B[0m                 \u001B[0;32mreturn\u001B[0m \u001B[0mself\u001B[0m\u001B[0;34m[\u001B[0m\u001B[0mname\u001B[0m\u001B[0;34m]\u001B[0m\u001B[0;34m\u001B[0m\u001B[0;34m\u001B[0m\u001B[0m\n\u001B[0;32m-> 5274\u001B[0;31m             \u001B[0;32mreturn\u001B[0m \u001B[0mobject\u001B[0m\u001B[0;34m.\u001B[0m\u001B[0m__getattribute__\u001B[0m\u001B[0;34m(\u001B[0m\u001B[0mself\u001B[0m\u001B[0;34m,\u001B[0m \u001B[0mname\u001B[0m\u001B[0;34m)\u001B[0m\u001B[0;34m\u001B[0m\u001B[0;34m\u001B[0m\u001B[0m\n\u001B[0m\u001B[1;32m   5275\u001B[0m \u001B[0;34m\u001B[0m\u001B[0m\n\u001B[1;32m   5276\u001B[0m     \u001B[0;32mdef\u001B[0m \u001B[0m__setattr__\u001B[0m\u001B[0;34m(\u001B[0m\u001B[0mself\u001B[0m\u001B[0;34m,\u001B[0m \u001B[0mname\u001B[0m\u001B[0;34m:\u001B[0m \u001B[0mstr\u001B[0m\u001B[0;34m,\u001B[0m \u001B[0mvalue\u001B[0m\u001B[0;34m)\u001B[0m \u001B[0;34m->\u001B[0m \u001B[0;32mNone\u001B[0m\u001B[0;34m:\u001B[0m\u001B[0;34m\u001B[0m\u001B[0;34m\u001B[0m\u001B[0m\n",
      "\u001B[0;31mAttributeError\u001B[0m: 'DataFrame' object has no attribute 'tokens'"
     ]
    }
   ],
   "source": [
    "%%time\n",
    "\n",
    "for i in range(0, 21):\n",
    "    key = str(i)+'_coef'\n",
    "    data[key] = calc_coefs(data, i)"
   ],
   "metadata": {
    "collapsed": false,
    "pycharm": {
     "name": "#%%\n"
    }
   }
  },
  {
   "cell_type": "code",
   "execution_count": 15,
   "outputs": [
    {
     "ename": "KeyError",
     "evalue": "\"['tare' 'name' 'tokens'] not found in axis\"",
     "output_type": "error",
     "traceback": [
      "\u001B[0;31m---------------------------------------------------------------------------\u001B[0m",
      "\u001B[0;31mKeyError\u001B[0m                                  Traceback (most recent call last)",
      "\u001B[0;32m<ipython-input-15-c69cbffb4365>\u001B[0m in \u001B[0;36m<module>\u001B[0;34m\u001B[0m\n\u001B[0;32m----> 1\u001B[0;31m \u001B[0mdata\u001B[0m \u001B[0;34m=\u001B[0m \u001B[0mdata\u001B[0m\u001B[0;34m.\u001B[0m\u001B[0mdrop\u001B[0m\u001B[0;34m(\u001B[0m\u001B[0;34m[\u001B[0m\u001B[0;34m'tare'\u001B[0m\u001B[0;34m,\u001B[0m \u001B[0;34m'name'\u001B[0m\u001B[0;34m,\u001B[0m \u001B[0;34m'tokens'\u001B[0m\u001B[0;34m]\u001B[0m\u001B[0;34m,\u001B[0m \u001B[0maxis\u001B[0m\u001B[0;34m=\u001B[0m\u001B[0;36m1\u001B[0m\u001B[0;34m)\u001B[0m\u001B[0;34m\u001B[0m\u001B[0;34m\u001B[0m\u001B[0m\n\u001B[0m\u001B[1;32m      2\u001B[0m \u001B[0mdata\u001B[0m\u001B[0;34m.\u001B[0m\u001B[0mhead\u001B[0m\u001B[0;34m(\u001B[0m\u001B[0;34m)\u001B[0m\u001B[0;34m\u001B[0m\u001B[0;34m\u001B[0m\u001B[0m\n\u001B[1;32m      3\u001B[0m \u001B[0;34m\u001B[0m\u001B[0m\n",
      "\u001B[0;32m~/PycharmProjects/coursera/venv/lib/python3.7/site-packages/pandas/core/frame.py\u001B[0m in \u001B[0;36mdrop\u001B[0;34m(self, labels, axis, index, columns, level, inplace, errors)\u001B[0m\n\u001B[1;32m   3995\u001B[0m             \u001B[0mlevel\u001B[0m\u001B[0;34m=\u001B[0m\u001B[0mlevel\u001B[0m\u001B[0;34m,\u001B[0m\u001B[0;34m\u001B[0m\u001B[0;34m\u001B[0m\u001B[0m\n\u001B[1;32m   3996\u001B[0m             \u001B[0minplace\u001B[0m\u001B[0;34m=\u001B[0m\u001B[0minplace\u001B[0m\u001B[0;34m,\u001B[0m\u001B[0;34m\u001B[0m\u001B[0;34m\u001B[0m\u001B[0m\n\u001B[0;32m-> 3997\u001B[0;31m             \u001B[0merrors\u001B[0m\u001B[0;34m=\u001B[0m\u001B[0merrors\u001B[0m\u001B[0;34m,\u001B[0m\u001B[0;34m\u001B[0m\u001B[0;34m\u001B[0m\u001B[0m\n\u001B[0m\u001B[1;32m   3998\u001B[0m         )\n\u001B[1;32m   3999\u001B[0m \u001B[0;34m\u001B[0m\u001B[0m\n",
      "\u001B[0;32m~/PycharmProjects/coursera/venv/lib/python3.7/site-packages/pandas/core/generic.py\u001B[0m in \u001B[0;36mdrop\u001B[0;34m(self, labels, axis, index, columns, level, inplace, errors)\u001B[0m\n\u001B[1;32m   3934\u001B[0m         \u001B[0;32mfor\u001B[0m \u001B[0maxis\u001B[0m\u001B[0;34m,\u001B[0m \u001B[0mlabels\u001B[0m \u001B[0;32min\u001B[0m \u001B[0maxes\u001B[0m\u001B[0;34m.\u001B[0m\u001B[0mitems\u001B[0m\u001B[0;34m(\u001B[0m\u001B[0;34m)\u001B[0m\u001B[0;34m:\u001B[0m\u001B[0;34m\u001B[0m\u001B[0;34m\u001B[0m\u001B[0m\n\u001B[1;32m   3935\u001B[0m             \u001B[0;32mif\u001B[0m \u001B[0mlabels\u001B[0m \u001B[0;32mis\u001B[0m \u001B[0;32mnot\u001B[0m \u001B[0;32mNone\u001B[0m\u001B[0;34m:\u001B[0m\u001B[0;34m\u001B[0m\u001B[0;34m\u001B[0m\u001B[0m\n\u001B[0;32m-> 3936\u001B[0;31m                 \u001B[0mobj\u001B[0m \u001B[0;34m=\u001B[0m \u001B[0mobj\u001B[0m\u001B[0;34m.\u001B[0m\u001B[0m_drop_axis\u001B[0m\u001B[0;34m(\u001B[0m\u001B[0mlabels\u001B[0m\u001B[0;34m,\u001B[0m \u001B[0maxis\u001B[0m\u001B[0;34m,\u001B[0m \u001B[0mlevel\u001B[0m\u001B[0;34m=\u001B[0m\u001B[0mlevel\u001B[0m\u001B[0;34m,\u001B[0m \u001B[0merrors\u001B[0m\u001B[0;34m=\u001B[0m\u001B[0merrors\u001B[0m\u001B[0;34m)\u001B[0m\u001B[0;34m\u001B[0m\u001B[0;34m\u001B[0m\u001B[0m\n\u001B[0m\u001B[1;32m   3937\u001B[0m \u001B[0;34m\u001B[0m\u001B[0m\n\u001B[1;32m   3938\u001B[0m         \u001B[0;32mif\u001B[0m \u001B[0minplace\u001B[0m\u001B[0;34m:\u001B[0m\u001B[0;34m\u001B[0m\u001B[0;34m\u001B[0m\u001B[0m\n",
      "\u001B[0;32m~/PycharmProjects/coursera/venv/lib/python3.7/site-packages/pandas/core/generic.py\u001B[0m in \u001B[0;36m_drop_axis\u001B[0;34m(self, labels, axis, level, errors)\u001B[0m\n\u001B[1;32m   3968\u001B[0m                 \u001B[0mnew_axis\u001B[0m \u001B[0;34m=\u001B[0m \u001B[0maxis\u001B[0m\u001B[0;34m.\u001B[0m\u001B[0mdrop\u001B[0m\u001B[0;34m(\u001B[0m\u001B[0mlabels\u001B[0m\u001B[0;34m,\u001B[0m \u001B[0mlevel\u001B[0m\u001B[0;34m=\u001B[0m\u001B[0mlevel\u001B[0m\u001B[0;34m,\u001B[0m \u001B[0merrors\u001B[0m\u001B[0;34m=\u001B[0m\u001B[0merrors\u001B[0m\u001B[0;34m)\u001B[0m\u001B[0;34m\u001B[0m\u001B[0;34m\u001B[0m\u001B[0m\n\u001B[1;32m   3969\u001B[0m             \u001B[0;32melse\u001B[0m\u001B[0;34m:\u001B[0m\u001B[0;34m\u001B[0m\u001B[0;34m\u001B[0m\u001B[0m\n\u001B[0;32m-> 3970\u001B[0;31m                 \u001B[0mnew_axis\u001B[0m \u001B[0;34m=\u001B[0m \u001B[0maxis\u001B[0m\u001B[0;34m.\u001B[0m\u001B[0mdrop\u001B[0m\u001B[0;34m(\u001B[0m\u001B[0mlabels\u001B[0m\u001B[0;34m,\u001B[0m \u001B[0merrors\u001B[0m\u001B[0;34m=\u001B[0m\u001B[0merrors\u001B[0m\u001B[0;34m)\u001B[0m\u001B[0;34m\u001B[0m\u001B[0;34m\u001B[0m\u001B[0m\n\u001B[0m\u001B[1;32m   3971\u001B[0m             \u001B[0mresult\u001B[0m \u001B[0;34m=\u001B[0m \u001B[0mself\u001B[0m\u001B[0;34m.\u001B[0m\u001B[0mreindex\u001B[0m\u001B[0;34m(\u001B[0m\u001B[0;34m**\u001B[0m\u001B[0;34m{\u001B[0m\u001B[0maxis_name\u001B[0m\u001B[0;34m:\u001B[0m \u001B[0mnew_axis\u001B[0m\u001B[0;34m}\u001B[0m\u001B[0;34m)\u001B[0m\u001B[0;34m\u001B[0m\u001B[0;34m\u001B[0m\u001B[0m\n\u001B[1;32m   3972\u001B[0m \u001B[0;34m\u001B[0m\u001B[0m\n",
      "\u001B[0;32m~/PycharmProjects/coursera/venv/lib/python3.7/site-packages/pandas/core/indexes/base.py\u001B[0m in \u001B[0;36mdrop\u001B[0;34m(self, labels, errors)\u001B[0m\n\u001B[1;32m   5016\u001B[0m         \u001B[0;32mif\u001B[0m \u001B[0mmask\u001B[0m\u001B[0;34m.\u001B[0m\u001B[0many\u001B[0m\u001B[0;34m(\u001B[0m\u001B[0;34m)\u001B[0m\u001B[0;34m:\u001B[0m\u001B[0;34m\u001B[0m\u001B[0;34m\u001B[0m\u001B[0m\n\u001B[1;32m   5017\u001B[0m             \u001B[0;32mif\u001B[0m \u001B[0merrors\u001B[0m \u001B[0;34m!=\u001B[0m \u001B[0;34m\"ignore\"\u001B[0m\u001B[0;34m:\u001B[0m\u001B[0;34m\u001B[0m\u001B[0;34m\u001B[0m\u001B[0m\n\u001B[0;32m-> 5018\u001B[0;31m                 \u001B[0;32mraise\u001B[0m \u001B[0mKeyError\u001B[0m\u001B[0;34m(\u001B[0m\u001B[0;34mf\"{labels[mask]} not found in axis\"\u001B[0m\u001B[0;34m)\u001B[0m\u001B[0;34m\u001B[0m\u001B[0;34m\u001B[0m\u001B[0m\n\u001B[0m\u001B[1;32m   5019\u001B[0m             \u001B[0mindexer\u001B[0m \u001B[0;34m=\u001B[0m \u001B[0mindexer\u001B[0m\u001B[0;34m[\u001B[0m\u001B[0;34m~\u001B[0m\u001B[0mmask\u001B[0m\u001B[0;34m]\u001B[0m\u001B[0;34m\u001B[0m\u001B[0;34m\u001B[0m\u001B[0m\n\u001B[1;32m   5020\u001B[0m         \u001B[0;32mreturn\u001B[0m \u001B[0mself\u001B[0m\u001B[0;34m.\u001B[0m\u001B[0mdelete\u001B[0m\u001B[0;34m(\u001B[0m\u001B[0mindexer\u001B[0m\u001B[0;34m)\u001B[0m\u001B[0;34m\u001B[0m\u001B[0;34m\u001B[0m\u001B[0m\n",
      "\u001B[0;31mKeyError\u001B[0m: \"['tare' 'name' 'tokens'] not found in axis\""
     ]
    }
   ],
   "source": [
    "data = data.drop(['tare', 'name', 'tokens'], axis=1)\n",
    "data.head()"
   ],
   "metadata": {
    "collapsed": false,
    "pycharm": {
     "name": "#%%\n"
    }
   }
  },
  {
   "cell_type": "code",
   "execution_count": 18,
   "outputs": [
    {
     "data": {
      "text/plain": "         0_coef    1_coef    2_coef    3_coef    4_coef    5_coef    6_coef  \\\n0      0.550000  0.183280  0.130719  0.500000  0.203966  0.695035  0.163265   \n1      0.734615  0.000000  0.000000  1.394180  0.000000  0.000000  0.000000   \n2      0.088462  1.266881  0.379085  0.171958  0.000000  0.092199  0.000000   \n3      1.038462  0.286174  2.588235  0.248677  0.000000  0.546099  0.500000   \n4      0.200000  0.131833  0.045752  0.145503  0.000000  0.000000  0.000000   \n...         ...       ...       ...       ...       ...       ...       ...   \n40643  0.400000  0.147910  0.320261  0.537037  5.985836  0.070922  0.000000   \n40644  0.630769  0.263666  0.196078  1.894180  1.362606  0.234043  0.295918   \n40645  0.165385  0.144695  0.000000  0.761905  1.677054  0.035461  0.000000   \n40646  0.000000  0.000000  0.111111  0.000000  5.830028  0.000000  0.061224   \n40647  0.315385  0.000000  0.124183  1.862434  0.000000  0.000000  0.066327   \n\n         7_coef    8_coef    9_coef  ...   11_coef   12_coef   13_coef  \\\n0      0.082090  0.000000  0.117647  ...  0.078652  0.297101  0.000000   \n1      0.104478  0.000000  0.670588  ...  0.101124  0.047101  0.077982   \n2      0.000000  0.000000  0.643137  ...  0.000000  0.000000  0.211009   \n3      0.082090  0.000000  0.286275  ...  0.595506  0.000000  0.022936   \n4      0.000000  0.000000  0.494118  ...  0.056180  0.000000  0.091743   \n...         ...       ...       ...  ...       ...       ...       ...   \n40643  0.000000  0.000000  0.372549  ...  0.224719  0.833333  0.238532   \n40644  0.059701  0.119497  1.015686  ...  0.258427  0.282609  0.224771   \n40645  0.000000  0.025157  0.172549  ...  0.000000  0.152174  0.000000   \n40646  0.000000  0.000000  0.109804  ...  0.000000  0.166667  0.022936   \n40647  0.261194  0.000000  1.603922  ...  1.466292  0.000000  0.000000   \n\n        14_coef   15_coef   16_coef   17_coef   18_coef   19_coef   20_coef  \n0      0.000000  0.051613  0.000000  0.484321  0.058442  0.129187  0.000000  \n1      0.558824  0.148387  0.000000  0.062718  0.000000  0.000000  0.000000  \n2      0.000000  0.000000  0.000000  0.000000  0.097403  0.000000  0.000000  \n3      0.029412  1.083871  0.000000  0.041812  0.019481  0.066986  0.000000  \n4      0.000000  0.000000  0.018634  0.000000  0.000000  0.000000  0.000000  \n...         ...       ...       ...       ...       ...       ...       ...  \n40643  0.330882  0.045161  0.018634  0.146341  0.019481  0.000000  0.098361  \n40644  0.058824  0.103226  0.130435  0.372822  0.077922  0.076555  0.172131  \n40645  0.036765  0.000000  0.043478  0.000000  0.000000  0.000000  0.000000  \n40646  0.036765  0.000000  0.000000  0.000000  0.000000  0.000000  0.188525  \n40647  0.058824  0.000000  0.111801  0.000000  0.000000  0.000000  0.024590  \n\n[40648 rows x 21 columns]",
      "text/html": "<div>\n<style scoped>\n    .dataframe tbody tr th:only-of-type {\n        vertical-align: middle;\n    }\n\n    .dataframe tbody tr th {\n        vertical-align: top;\n    }\n\n    .dataframe thead th {\n        text-align: right;\n    }\n</style>\n<table border=\"1\" class=\"dataframe\">\n  <thead>\n    <tr style=\"text-align: right;\">\n      <th></th>\n      <th>0_coef</th>\n      <th>1_coef</th>\n      <th>2_coef</th>\n      <th>3_coef</th>\n      <th>4_coef</th>\n      <th>5_coef</th>\n      <th>6_coef</th>\n      <th>7_coef</th>\n      <th>8_coef</th>\n      <th>9_coef</th>\n      <th>...</th>\n      <th>11_coef</th>\n      <th>12_coef</th>\n      <th>13_coef</th>\n      <th>14_coef</th>\n      <th>15_coef</th>\n      <th>16_coef</th>\n      <th>17_coef</th>\n      <th>18_coef</th>\n      <th>19_coef</th>\n      <th>20_coef</th>\n    </tr>\n  </thead>\n  <tbody>\n    <tr>\n      <th>0</th>\n      <td>0.550000</td>\n      <td>0.183280</td>\n      <td>0.130719</td>\n      <td>0.500000</td>\n      <td>0.203966</td>\n      <td>0.695035</td>\n      <td>0.163265</td>\n      <td>0.082090</td>\n      <td>0.000000</td>\n      <td>0.117647</td>\n      <td>...</td>\n      <td>0.078652</td>\n      <td>0.297101</td>\n      <td>0.000000</td>\n      <td>0.000000</td>\n      <td>0.051613</td>\n      <td>0.000000</td>\n      <td>0.484321</td>\n      <td>0.058442</td>\n      <td>0.129187</td>\n      <td>0.000000</td>\n    </tr>\n    <tr>\n      <th>1</th>\n      <td>0.734615</td>\n      <td>0.000000</td>\n      <td>0.000000</td>\n      <td>1.394180</td>\n      <td>0.000000</td>\n      <td>0.000000</td>\n      <td>0.000000</td>\n      <td>0.104478</td>\n      <td>0.000000</td>\n      <td>0.670588</td>\n      <td>...</td>\n      <td>0.101124</td>\n      <td>0.047101</td>\n      <td>0.077982</td>\n      <td>0.558824</td>\n      <td>0.148387</td>\n      <td>0.000000</td>\n      <td>0.062718</td>\n      <td>0.000000</td>\n      <td>0.000000</td>\n      <td>0.000000</td>\n    </tr>\n    <tr>\n      <th>2</th>\n      <td>0.088462</td>\n      <td>1.266881</td>\n      <td>0.379085</td>\n      <td>0.171958</td>\n      <td>0.000000</td>\n      <td>0.092199</td>\n      <td>0.000000</td>\n      <td>0.000000</td>\n      <td>0.000000</td>\n      <td>0.643137</td>\n      <td>...</td>\n      <td>0.000000</td>\n      <td>0.000000</td>\n      <td>0.211009</td>\n      <td>0.000000</td>\n      <td>0.000000</td>\n      <td>0.000000</td>\n      <td>0.000000</td>\n      <td>0.097403</td>\n      <td>0.000000</td>\n      <td>0.000000</td>\n    </tr>\n    <tr>\n      <th>3</th>\n      <td>1.038462</td>\n      <td>0.286174</td>\n      <td>2.588235</td>\n      <td>0.248677</td>\n      <td>0.000000</td>\n      <td>0.546099</td>\n      <td>0.500000</td>\n      <td>0.082090</td>\n      <td>0.000000</td>\n      <td>0.286275</td>\n      <td>...</td>\n      <td>0.595506</td>\n      <td>0.000000</td>\n      <td>0.022936</td>\n      <td>0.029412</td>\n      <td>1.083871</td>\n      <td>0.000000</td>\n      <td>0.041812</td>\n      <td>0.019481</td>\n      <td>0.066986</td>\n      <td>0.000000</td>\n    </tr>\n    <tr>\n      <th>4</th>\n      <td>0.200000</td>\n      <td>0.131833</td>\n      <td>0.045752</td>\n      <td>0.145503</td>\n      <td>0.000000</td>\n      <td>0.000000</td>\n      <td>0.000000</td>\n      <td>0.000000</td>\n      <td>0.000000</td>\n      <td>0.494118</td>\n      <td>...</td>\n      <td>0.056180</td>\n      <td>0.000000</td>\n      <td>0.091743</td>\n      <td>0.000000</td>\n      <td>0.000000</td>\n      <td>0.018634</td>\n      <td>0.000000</td>\n      <td>0.000000</td>\n      <td>0.000000</td>\n      <td>0.000000</td>\n    </tr>\n    <tr>\n      <th>...</th>\n      <td>...</td>\n      <td>...</td>\n      <td>...</td>\n      <td>...</td>\n      <td>...</td>\n      <td>...</td>\n      <td>...</td>\n      <td>...</td>\n      <td>...</td>\n      <td>...</td>\n      <td>...</td>\n      <td>...</td>\n      <td>...</td>\n      <td>...</td>\n      <td>...</td>\n      <td>...</td>\n      <td>...</td>\n      <td>...</td>\n      <td>...</td>\n      <td>...</td>\n      <td>...</td>\n    </tr>\n    <tr>\n      <th>40643</th>\n      <td>0.400000</td>\n      <td>0.147910</td>\n      <td>0.320261</td>\n      <td>0.537037</td>\n      <td>5.985836</td>\n      <td>0.070922</td>\n      <td>0.000000</td>\n      <td>0.000000</td>\n      <td>0.000000</td>\n      <td>0.372549</td>\n      <td>...</td>\n      <td>0.224719</td>\n      <td>0.833333</td>\n      <td>0.238532</td>\n      <td>0.330882</td>\n      <td>0.045161</td>\n      <td>0.018634</td>\n      <td>0.146341</td>\n      <td>0.019481</td>\n      <td>0.000000</td>\n      <td>0.098361</td>\n    </tr>\n    <tr>\n      <th>40644</th>\n      <td>0.630769</td>\n      <td>0.263666</td>\n      <td>0.196078</td>\n      <td>1.894180</td>\n      <td>1.362606</td>\n      <td>0.234043</td>\n      <td>0.295918</td>\n      <td>0.059701</td>\n      <td>0.119497</td>\n      <td>1.015686</td>\n      <td>...</td>\n      <td>0.258427</td>\n      <td>0.282609</td>\n      <td>0.224771</td>\n      <td>0.058824</td>\n      <td>0.103226</td>\n      <td>0.130435</td>\n      <td>0.372822</td>\n      <td>0.077922</td>\n      <td>0.076555</td>\n      <td>0.172131</td>\n    </tr>\n    <tr>\n      <th>40645</th>\n      <td>0.165385</td>\n      <td>0.144695</td>\n      <td>0.000000</td>\n      <td>0.761905</td>\n      <td>1.677054</td>\n      <td>0.035461</td>\n      <td>0.000000</td>\n      <td>0.000000</td>\n      <td>0.025157</td>\n      <td>0.172549</td>\n      <td>...</td>\n      <td>0.000000</td>\n      <td>0.152174</td>\n      <td>0.000000</td>\n      <td>0.036765</td>\n      <td>0.000000</td>\n      <td>0.043478</td>\n      <td>0.000000</td>\n      <td>0.000000</td>\n      <td>0.000000</td>\n      <td>0.000000</td>\n    </tr>\n    <tr>\n      <th>40646</th>\n      <td>0.000000</td>\n      <td>0.000000</td>\n      <td>0.111111</td>\n      <td>0.000000</td>\n      <td>5.830028</td>\n      <td>0.000000</td>\n      <td>0.061224</td>\n      <td>0.000000</td>\n      <td>0.000000</td>\n      <td>0.109804</td>\n      <td>...</td>\n      <td>0.000000</td>\n      <td>0.166667</td>\n      <td>0.022936</td>\n      <td>0.036765</td>\n      <td>0.000000</td>\n      <td>0.000000</td>\n      <td>0.000000</td>\n      <td>0.000000</td>\n      <td>0.000000</td>\n      <td>0.188525</td>\n    </tr>\n    <tr>\n      <th>40647</th>\n      <td>0.315385</td>\n      <td>0.000000</td>\n      <td>0.124183</td>\n      <td>1.862434</td>\n      <td>0.000000</td>\n      <td>0.000000</td>\n      <td>0.066327</td>\n      <td>0.261194</td>\n      <td>0.000000</td>\n      <td>1.603922</td>\n      <td>...</td>\n      <td>1.466292</td>\n      <td>0.000000</td>\n      <td>0.000000</td>\n      <td>0.058824</td>\n      <td>0.000000</td>\n      <td>0.111801</td>\n      <td>0.000000</td>\n      <td>0.000000</td>\n      <td>0.000000</td>\n      <td>0.024590</td>\n    </tr>\n  </tbody>\n</table>\n<p>40648 rows × 21 columns</p>\n</div>"
     },
     "execution_count": 18,
     "metadata": {},
     "output_type": "execute_result"
    }
   ],
   "source": [
    "data.iloc[:, 2:]"
   ],
   "metadata": {
    "collapsed": false,
    "pycharm": {
     "name": "#%%\n"
    }
   }
  },
  {
   "cell_type": "code",
   "execution_count": null,
   "outputs": [],
   "source": [
    "from sklearn import cross_validation, datasets, grid_search, linear_model, metrics\n",
    "from sklearn.ensemble import RandomForestClassifier"
   ],
   "metadata": {
    "collapsed": false,
    "pycharm": {
     "name": "#%%\n"
    }
   }
  },
  {
   "cell_type": "code",
   "execution_count": null,
   "outputs": [],
   "source": [
    "\n",
    "train_data, test_data, train_labels, test_labels = cross_validation.train_test_split(data.iloc[:, 2:], data.iloc[:, 1:2],\n",
    "                                                                                    random_state=0, test_size=0.3)\n",
    "\n",
    "classifier = RandomForestClassifier(random_state = 0)\n",
    "parameters_grid = {\n",
    "    'class_weight': [None],\n",
    "    'bootstrap': [True],\n",
    "    'criterion': ['gini'],\n",
    "    'max_depth': [35]\n",
    "}\n",
    "cv = cross_validation.StratifiedShuffleSplit(train_labels, n_iter = 5, test_size = 0.2, random_state = 0)"
   ],
   "metadata": {
    "collapsed": false,
    "pycharm": {
     "name": "#%%\n"
    }
   }
  },
  {
   "cell_type": "code",
   "execution_count": null,
   "outputs": [],
   "source": [
    "grid_cv = grid_search.RandomizedSearchCV(classifier, parameters_grid, scoring = 'accuracy', cv = cv, n_iter = 1,\n",
    "                                                   random_state = 0)"
   ],
   "metadata": {
    "collapsed": false,
    "pycharm": {
     "name": "#%%\n"
    }
   }
  },
  {
   "cell_type": "code",
   "execution_count": null,
   "outputs": [],
   "source": [
    "%%time\n",
    "grid_cv.fit(train_data, train_labels)\n",
    "print (grid_cv.best_score_)\n",
    "print (grid_cv.best_params_)"
   ],
   "metadata": {
    "collapsed": false,
    "pycharm": {
     "name": "#%%\n"
    }
   }
  },
  {
   "cell_type": "code",
   "execution_count": null,
   "outputs": [],
   "source": [
    "grid_cv.grid_scores_"
   ],
   "metadata": {
    "collapsed": false,
    "pycharm": {
     "name": "#%%\n"
    }
   }
  },
  {
   "cell_type": "code",
   "execution_count": null,
   "outputs": [],
   "source": [
    "print(metrics.classification_report(test_labels, grid_cv.predict(test_data)))"
   ],
   "metadata": {
    "collapsed": false,
    "pycharm": {
     "name": "#%%\n"
    }
   }
  },
  {
   "cell_type": "code",
   "execution_count": null,
   "outputs": [],
   "source": [
    "matrix = metrics.confusion_matrix(test_labels, grid_cv.predict(test_data))\n",
    "\n",
    "df_cm = pd.DataFrame(matrix)\n",
    "plt.figure(figsize = (20,14))\n",
    "sns.heatmap(df_cm, annot=True, vmax=70)"
   ],
   "metadata": {
    "collapsed": false,
    "pycharm": {
     "name": "#%%\n"
    }
   }
  },
  {
   "cell_type": "code",
   "execution_count": null,
   "outputs": [],
   "source": [
    "for_zero = get_words_by_frequency(data[data['tare_value'] == 9])\n",
    "for_three = get_words_by_frequency(data[data['tare_value'] == 3])"
   ],
   "metadata": {
    "collapsed": false,
    "pycharm": {
     "name": "#%%\n"
    }
   }
  },
  {
   "cell_type": "code",
   "execution_count": null,
   "outputs": [],
   "source": [
    "predicted = grid_cv.predict(test_data)\n",
    "labels = np.array(test_labels['tare_value'])\n",
    "indicies = []\n",
    "for i in range(0, len(predicted)):\n",
    "    if predicted[i] != labels[i]:\n",
    "        indicies.append(i)"
   ],
   "metadata": {
    "collapsed": false,
    "pycharm": {
     "name": "#%%\n"
    }
   }
  },
  {
   "cell_type": "code",
   "execution_count": null,
   "outputs": [],
   "source": [
    "new_data = pd.read_csv('train.csv')\n",
    "new_data = new_data.iloc[test_data.index]\n"
   ],
   "metadata": {
    "collapsed": false,
    "pycharm": {
     "name": "#%%\n"
    }
   }
  },
  {
   "cell_type": "code",
   "execution_count": null,
   "outputs": [],
   "source": [
    "\n",
    "key_value = list(map(lambda t: (t[1], t[0]), enumerate(tares)))\n",
    "tares_to_integer = dict(key_value)\n",
    "integers = list(map(lambda t: tares_to_integer[t], new_data.tare))\n",
    "new_data['tare_value'] = integers\n",
    "new_data['predicted'] = predicted\n",
    "new_data.head()"
   ],
   "metadata": {
    "collapsed": false,
    "pycharm": {
     "name": "#%%\n"
    }
   }
  },
  {
   "cell_type": "code",
   "execution_count": null,
   "outputs": [],
   "source": [
    "for_zero = get_words_by_frequency(data[data['tare_value'] == 6])\n",
    "for_three = get_words_by_frequency(data[data['tare_value'] == 17])\n",
    "\n",
    "for_zero[:10]\n"
   ],
   "metadata": {
    "collapsed": false,
    "pycharm": {
     "name": "#%%\n"
    }
   }
  },
  {
   "cell_type": "code",
   "execution_count": null,
   "outputs": [],
   "source": [
    "for_three[:10]\n"
   ],
   "metadata": {
    "collapsed": false,
    "pycharm": {
     "name": "#%%\n"
    }
   }
  }
 ],
 "metadata": {
  "kernelspec": {
   "display_name": "Python 3",
   "language": "python",
   "name": "python3"
  },
  "language_info": {
   "codemirror_mode": {
    "name": "ipython",
    "version": 2
   },
   "file_extension": ".py",
   "mimetype": "text/x-python",
   "name": "python",
   "nbconvert_exporter": "python",
   "pygments_lexer": "ipython2",
   "version": "2.7.6"
  }
 },
 "nbformat": 4,
 "nbformat_minor": 0
}