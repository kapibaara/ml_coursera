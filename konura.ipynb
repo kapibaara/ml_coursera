{
 "cells": [
  {
   "cell_type": "code",
   "execution_count": 2,
   "metadata": {
    "collapsed": true
   },
   "outputs": [],
   "source": [
    "import StringIO\n",
    "import pandas\n",
    "from sklearn.feature_extraction.text import TfidfVectorizer, CountVectorizer\n",
    "from sklearn.feature_extraction import DictVectorizer\n",
    "from sklearn.ensemble import GradientBoostingClassifier, RandomForestClassifier\n",
    "from sklearn.model_selection import KFold, cross_val_score, StratifiedKFold, train_test_split\n",
    "from sklearn.metrics import classification_report, accuracy_score, r2_score\n",
    "from sklearn.svm import SVC\n",
    "import re\n",
    "from sklearn.model_selection import GridSearchCV\n",
    "import numpy as np\n",
    "\n"
   ]
  },
  {
   "cell_type": "code",
   "execution_count": 3,
   "outputs": [
    {
     "data": {
      "text/plain": "                                                 name             tare\nid                                                                    \n0                        Котлеты МЛМ из говядины 335г          коробка\n1   Победа Вкуса конфеты Мишки в лесу 250г(КФ ПОБЕ...          коробка\n2   ТВОРОГ (ЮНИМИЛК) \"ПРОСТОКВАШИНО\" ЗЕРНЕНЫЙ 130Г...        стаканчик\n3   Сыр Плавленый Веселый Молочник с Грибами 190г ...        контейнер\n4     Жевательный мармелад Маша и медведь  буквы 100г  пакет без формы",
      "text/html": "<div>\n<style scoped>\n    .dataframe tbody tr th:only-of-type {\n        vertical-align: middle;\n    }\n\n    .dataframe tbody tr th {\n        vertical-align: top;\n    }\n\n    .dataframe thead th {\n        text-align: right;\n    }\n</style>\n<table border=\"1\" class=\"dataframe\">\n  <thead>\n    <tr style=\"text-align: right;\">\n      <th></th>\n      <th>name</th>\n      <th>tare</th>\n    </tr>\n    <tr>\n      <th>id</th>\n      <th></th>\n      <th></th>\n    </tr>\n  </thead>\n  <tbody>\n    <tr>\n      <th>0</th>\n      <td>Котлеты МЛМ из говядины 335г</td>\n      <td>коробка</td>\n    </tr>\n    <tr>\n      <th>1</th>\n      <td>Победа Вкуса конфеты Мишки в лесу 250г(КФ ПОБЕ...</td>\n      <td>коробка</td>\n    </tr>\n    <tr>\n      <th>2</th>\n      <td>ТВОРОГ (ЮНИМИЛК) \"ПРОСТОКВАШИНО\" ЗЕРНЕНЫЙ 130Г...</td>\n      <td>стаканчик</td>\n    </tr>\n    <tr>\n      <th>3</th>\n      <td>Сыр Плавленый Веселый Молочник с Грибами 190г ...</td>\n      <td>контейнер</td>\n    </tr>\n    <tr>\n      <th>4</th>\n      <td>Жевательный мармелад Маша и медведь  буквы 100г</td>\n      <td>пакет без формы</td>\n    </tr>\n  </tbody>\n</table>\n</div>"
     },
     "execution_count": 3,
     "metadata": {},
     "output_type": "execute_result"
    }
   ],
   "source": [
    "data = pandas.read_csv('./data_seta/kontur_train.csv', index_col='id')\n",
    "data = data.fillna('')\n",
    "data.head()"
   ],
   "metadata": {
    "collapsed": false,
    "pycharm": {
     "name": "#%%\n"
    }
   }
  },
  {
   "cell_type": "code",
   "execution_count": 4,
   "outputs": [
    {
     "data": {
      "text/plain": "{'коробка': 0,\n 'стаканчик': 1,\n 'контейнер': 2,\n 'пакет без формы': 3,\n 'бутылка': 4,\n 'лоток': 5,\n 'вакуумная упаковка': 6,\n 'без упаковки': 7,\n 'туба': 8,\n 'обертка': 9,\n 'пакет прямоугольный': 10,\n 'усадочная упаковка': 11,\n 'банка металлическая': 12,\n 'пачка': 13,\n 'гофрокороб': 14,\n 'упаковка с газовым наполнением': 15,\n 'тортница': 16,\n 'банка неметаллическая': 17,\n 'ведро': 18,\n 'колбасная оболочка': 19,\n 'ячеистая упаковка': 20}"
     },
     "execution_count": 4,
     "metadata": {},
     "output_type": "execute_result"
    }
   ],
   "source": [
    "tares = {}\n",
    "\n",
    "for i, tare in enumerate(list(data['tare'].unique())):\n",
    "    tares[tare] = i\n",
    "tares"
   ],
   "metadata": {
    "collapsed": false,
    "pycharm": {
     "name": "#%%\n"
    }
   }
  },
  {
   "cell_type": "code",
   "execution_count": 5,
   "outputs": [],
   "source": [
    "def filter_not_valuable_words(phrase):\n",
    "    words = phrase.split(' ')\n",
    "    valuable_words = []\n",
    "\n",
    "    for word in words:\n",
    "        word = re.sub('[^a-я%/]', ' ', word)\n",
    "        if len(word) > 2:\n",
    "            valuable_words.append(word)\n",
    "        else:\n",
    "            if word == 'г' or word == 'гр':\n",
    "                valuable_words.append('грамм')\n",
    "            if '%' in word:\n",
    "                valuable_words.append('процент')\n",
    "            if word == 'л':\n",
    "                valuable_words.append('литр')\n",
    "            if word == 'ву':\n",
    "                valuable_words.append('вакуумная')\n",
    "            if word == 'вс':\n",
    "                pass\n",
    "            if 'жб' in word:\n",
    "                valuable_words.append('банкаметаллическая')\n",
    "    return ' '.join(valuable_words)"
   ],
   "metadata": {
    "collapsed": false,
    "pycharm": {
     "name": "#%%\n"
    }
   }
  },
  {
   "cell_type": "code",
   "execution_count": 6,
   "outputs": [],
   "source": [
    "y_data = data.replace({'tare': tares})['tare'].to_numpy()\n",
    "X_data = data['name'].str.lower().replace('[0-9/]', '', regex=True).map(filter_not_valuable_words)\n"
   ],
   "metadata": {
    "collapsed": false,
    "pycharm": {
     "name": "#%%\n"
    }
   }
  },
  {
   "cell_type": "code",
   "execution_count": 7,
   "outputs": [],
   "source": [
    "X_train, X_test, y_train, y_test = train_test_split(X_data, y_data, test_size=0.33, random_state=42)\n"
   ],
   "metadata": {
    "collapsed": false,
    "pycharm": {
     "name": "#%%\n"
    }
   }
  },
  {
   "cell_type": "code",
   "execution_count": 8,
   "outputs": [
    {
     "data": {
      "text/plain": "array([0.44567024, 0.0977727 , 0.41914361, ..., 0.55635561, 0.58595115,\n       0.28402534])"
     },
     "execution_count": 8,
     "metadata": {},
     "output_type": "execute_result"
    }
   ],
   "source": [
    "tdif = TfidfVectorizer()\n",
    "X_train_1 = tdif.fit_transform(X_train)\n",
    "X_train_1.data"
   ],
   "metadata": {
    "collapsed": false,
    "pycharm": {
     "name": "#%%\n"
    }
   }
  },
  {
   "cell_type": "code",
   "execution_count": 9,
   "outputs": [],
   "source": [
    "vectorizer = CountVectorizer()\n",
    "X_train_2 = vectorizer.fit_transform(X_train)"
   ],
   "metadata": {
    "collapsed": false,
    "pycharm": {
     "name": "#%%\n"
    }
   }
  },
  {
   "cell_type": "code",
   "execution_count": 10,
   "outputs": [],
   "source": [
    "kf = KFold(n_splits=5, random_state=42, shuffle=True)\n"
   ],
   "metadata": {
    "collapsed": false,
    "pycharm": {
     "name": "#%%\n"
    }
   }
  },
  {
   "cell_type": "code",
   "execution_count": 11,
   "outputs": [
    {
     "data": {
      "text/plain": "RandomForestClassifier(n_estimators=35, random_state=42)"
     },
     "execution_count": 11,
     "metadata": {},
     "output_type": "execute_result"
    }
   ],
   "source": [
    "rfc1=RandomForestClassifier(random_state=42, n_estimators= 35)\n",
    "rfc1.fit(X_train_1, y_train)"
   ],
   "metadata": {
    "collapsed": false,
    "pycharm": {
     "name": "#%%\n"
    }
   }
  },
  {
   "cell_type": "code",
   "execution_count": 12,
   "outputs": [
    {
     "data": {
      "text/plain": "RandomForestClassifier(n_estimators=35, random_state=42)"
     },
     "execution_count": 12,
     "metadata": {},
     "output_type": "execute_result"
    }
   ],
   "source": [
    "rfc2=RandomForestClassifier(random_state=42, n_estimators= 35)\n",
    "rfc2.fit(X_train_2, y_train)"
   ],
   "metadata": {
    "collapsed": false,
    "pycharm": {
     "name": "#%%\n"
    }
   }
  },
  {
   "cell_type": "code",
   "execution_count": 25,
   "outputs": [
    {
     "data": {
      "text/plain": "0.801923363649918"
     },
     "execution_count": 25,
     "metadata": {},
     "output_type": "execute_result"
    }
   ],
   "source": [
    "X_test_1 = tdif.transform(X_test)\n",
    "X_test_2 = vectorizer.transform(X_test)\n",
    "\n",
    "y_pred_forest_1 = rfc1.predict(X_test_1)\n",
    "y_pred_forest_2 = rfc2.predict(X_test_2)\n",
    "\n",
    "\n",
    "score_1 = accuracy_score(y_test, y_pred_forest_1)\n",
    "score_2 = accuracy_score(y_test, y_pred_forest_2)\n",
    "score_1\n",
    "score_2"
   ],
   "metadata": {
    "collapsed": false,
    "pycharm": {
     "name": "#%%\n"
    }
   }
  },
  {
   "cell_type": "code",
   "execution_count": 14,
   "outputs": [
    {
     "name": "stdout",
     "output_type": "stream",
     "text": [
      "[9.51335672e-06 3.62192428e-05 1.15972616e-05 ... 7.87861990e-06\n",
      " 6.33543667e-07 3.04668308e-06]\n"
     ]
    }
   ],
   "source": [
    "print(rfc1.feature_importances_)\n"
   ],
   "metadata": {
    "collapsed": false,
    "pycharm": {
     "name": "#%%\n"
    }
   }
  },
  {
   "cell_type": "code",
   "execution_count": 23,
   "outputs": [
    {
     "data": {
      "text/plain": "True"
     },
     "execution_count": 23,
     "metadata": {},
     "output_type": "execute_result"
    }
   ],
   "source": [
    "from sklearn.tree import export_graphviz\n",
    "from os import system\n",
    "import pydotplus\n",
    "from io import StringIO\n",
    "from graphviz import Source\n",
    "from IPython.display import Image\n",
    "\n",
    "estimator_1 = rfc1.estimators_[1]\n",
    "#\n",
    "classnames = list(data['tare'].unique())\n",
    "\n",
    "# # Export as dot file\n",
    "dotfile = StringIO()\n",
    "\n",
    "export_graphviz(estimator_1, out_file=dotfile)\n",
    "graph=pydotplus.graph_from_dot_data(dotfile.getvalue())\n",
    "graph.write_png(\"dtree.png\")\n",
    "graph.write_pdf(\"dtree.pdf\")"
   ],
   "metadata": {
    "collapsed": false,
    "pycharm": {
     "name": "#%%\n"
    }
   }
  },
  {
   "cell_type": "code",
   "execution_count": null,
   "outputs": [],
   "source": [
    "\n"
   ],
   "metadata": {
    "collapsed": false,
    "pycharm": {
     "name": "#%%\n"
    }
   }
  }
 ],
 "metadata": {
  "kernelspec": {
   "display_name": "Python 3",
   "language": "python",
   "name": "python3"
  },
  "language_info": {
   "codemirror_mode": {
    "name": "ipython",
    "version": 2
   },
   "file_extension": ".py",
   "mimetype": "text/x-python",
   "name": "python",
   "nbconvert_exporter": "python",
   "pygments_lexer": "ipython2",
   "version": "2.7.6"
  }
 },
 "nbformat": 4,
 "nbformat_minor": 0
}