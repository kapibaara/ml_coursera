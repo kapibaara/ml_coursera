{
 "cells": [
  {
   "cell_type": "code",
   "execution_count": 2,
   "metadata": {
    "collapsed": true
   },
   "outputs": [],
   "source": [
    "import pandas\n",
    "\n",
    "data = pandas.read_csv('./data_seta/features.csv', index_col='match_id')\n",
    "\n",
    "# фильтрация свойств, содержащих информацию, выходящую за пределы первых 5 минут матча\n",
    "features = data.iloc[:,:-6]\n"
   ]
  },
  {
   "cell_type": "code",
   "execution_count": 16,
   "outputs": [
    {
     "data": {
      "text/plain": "['first_blood_time',\n 'first_blood_team',\n 'first_blood_player1',\n 'first_blood_player2',\n 'radiant_bottle_time',\n 'radiant_courier_time',\n 'radiant_flying_courier_time',\n 'radiant_first_ward_time',\n 'dire_bottle_time',\n 'dire_courier_time',\n 'dire_flying_courier_time',\n 'dire_first_ward_time']"
     },
     "execution_count": 16,
     "metadata": {},
     "output_type": "execute_result"
    }
   ],
   "source": [
    "features_with_nan = features.columns[features.isna().any()].tolist()\n",
    "features_with_nan"
   ],
   "metadata": {
    "collapsed": false,
    "pycharm": {
     "name": "#%%\n"
    }
   }
  },
  {
   "cell_type": "markdown",
   "source": [
    " Признаки с пропусками: 'first_blood_time',\n",
    " 'first_blood_team',\n",
    " 'first_blood_player1',\n",
    " 'first_blood_player2',\n",
    " 'radiant_bottle_time',\n",
    " 'radiant_courier_time',\n",
    " 'radiant_flying_courier_time',\n",
    " 'radiant_first_ward_time',\n",
    " 'dire_bottle_time',\n",
    " 'dire_courier_time',\n",
    " 'dire_flying_courier_time',\n",
    " 'dire_first_ward_time'\n",
    "\n",
    " * все признаки с first_blood пропущены, т.к за первые 5 мин могло не произойти событие первой крови\n",
    " * признаки с приобретением предмета courier или bottle, установка первого наблюдателя пропущены, т.к.\n",
    " за первые 5 мин команды могли не покупать никаких предметов или не устанавливать наблюдателей"
   ],
   "metadata": {
    "collapsed": false,
    "pycharm": {
     "name": "#%% md\n"
    }
   }
  },
  {
   "cell_type": "code",
   "execution_count": 13,
   "outputs": [
    {
     "data": {
      "text/plain": "1321"
     },
     "execution_count": 13,
     "metadata": {},
     "output_type": "execute_result"
    }
   ],
   "source": [
    "\n",
    "\n",
    "\n"
   ],
   "metadata": {
    "collapsed": false,
    "pycharm": {
     "name": "#%%\n"
    }
   }
  }
 ],
 "metadata": {
  "kernelspec": {
   "display_name": "Python 3",
   "language": "python",
   "name": "python3"
  },
  "language_info": {
   "codemirror_mode": {
    "name": "ipython",
    "version": 2
   },
   "file_extension": ".py",
   "mimetype": "text/x-python",
   "name": "python",
   "nbconvert_exporter": "python",
   "pygments_lexer": "ipython2",
   "version": "2.7.6"
  }
 },
 "nbformat": 4,
 "nbformat_minor": 0
}